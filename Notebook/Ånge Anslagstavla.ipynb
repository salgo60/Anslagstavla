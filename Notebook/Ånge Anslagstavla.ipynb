{
 "cells": [
  {
   "attachments": {},
   "cell_type": "markdown",
   "id": "dae3240a-604a-4830-ba20-deea0e5e2a9c",
   "metadata": {},
   "source": [
    "### Exempel Ånges anslagstavla\n",
    "* [länk]( https://gitlab.com/sarskilt-viktiga-datamangder/diariefoerda-handlingar/-/blob/63b202bdcbad5d357c9dd7c60212913338cba883/content/example.md) exempel\n",
    "* min issue [#19](https://github.com/salgo60/Anslagstavla/issues/19#issuecomment-1976895624)\n",
    "* Ånges websida med [anslagstavlan - moten.ange.se/digital-bulletin-board](https://moten.ange.se/digital-bulletin-board/?manageableOnly=false&pageIndex=1&pageSize=100)"
   ]
  },
  {
   "cell_type": "code",
   "execution_count": 1,
   "id": "6943dd9e-6ff0-4176-9773-4e5f49ef7716",
   "metadata": {},
   "outputs": [],
   "source": [
    "api_url=\"https://moten.ange.se/api/dbb/v1.0/announcements/published/\"\n"
   ]
  },
  {
   "cell_type": "code",
   "execution_count": 2,
   "id": "71f63c35-a1c3-48b7-9146-7261da9ce39c",
   "metadata": {},
   "outputs": [
    {
     "name": "stdout",
     "output_type": "stream",
     "text": [
      "Last run:  2024-03-04 17:31:33.822077\n"
     ]
    }
   ],
   "source": [
    "from datetime import datetime\n",
    "start_time  = datetime.now()\n",
    "print(\"Last run: \", start_time)"
   ]
  },
  {
   "cell_type": "code",
   "execution_count": 3,
   "id": "5f252cbb-f932-4a89-948f-6f0813eebf0d",
   "metadata": {
    "scrolled": true
   },
   "outputs": [
    {
     "name": "stdout",
     "output_type": "stream",
     "text": [
      "Data fetched successfully:\n",
      "{\n",
      "  \"Items\": [\n",
      "    {\n",
      "      \"Id\": \"4825b254-0228-4723-8e7c-33ae0d644cc7\",\n",
      "      \"Type\": \"Kommunfullm\\u00e4ktiges valberednings protokoll\",\n",
      "      \"StartDate\": \"2024-03-01\",\n",
      "      \"EndDate\": \"2024-03-22\",\n",
      "      \"Title\": \"Protokoll fr\\u00e5n m\\u00f6te i Kommunfullm\\u00e4ktiges valberedning - 2024-02-26\",\n",
      "      \"CommitteeName\": \"Kommunfullm\\u00e4ktiges valberedning\",\n",
      "      \"CommitteeLink\": \"committees/kommunfullmaktiges-valberedning\"\n",
      "    },\n",
      "    {\n",
      "      \"Id\": \"80ed74be-162e-47ea-87af-5f61de488b6a\",\n",
      "      \"Type\": \"Kommunfullm\\u00e4ktige protokoll\",\n",
      "      \"StartDate\": \"2024-03-01\",\n",
      "      \"EndDate\": \"2024-03-22\",\n",
      "      \"Title\": \"Protokoll fr\\u00e5n m\\u00f6te i Kommunfullm\\u00e4ktige - 2024-02-26\",\n",
      "      \"CommitteeName\": \"Kommunfullm\\u00e4ktige\",\n",
      "      \"CommitteeLink\": \"committees/kommunfullmaktige\"\n",
      "    },\n",
      "    {\n",
      "      \"Id\": \"37dee4d3-bf5d-4942-a7fc-236ab079a933\",\n",
      "      \"Type\": \"Valn\\u00e4mndens protokoll\",\n",
      "      \"StartDate\": \"2024-02-29\",\n",
      "      \"EndDate\": \"2024-03-21\",\n",
      "      \"Title\": \"Protokoll fr\\u00e5n m\\u00f6te i Valn\\u00e4mnden - 2024-02-28\",\n",
      "      \"CommitteeName\": \"Valn\\u00e4mnden\",\n",
      "      \"CommitteeLink\": \"committees/valnamnden\"\n",
      "    },\n",
      "    {\n",
      "      \"Id\": \"ff7e7e09-d485-4545-80a1-c356013e63f1\",\n",
      "      \"Type\": \"Kommunfullm\\u00e4ktige sammantr\\u00e4de\",\n",
      "      \"StartDate\": \"2024-02-22\",\n",
      "      \"EndDate\": \"2024-03-04\",\n",
      "      \"Title\": \"Kommunfullm\\u00e4ktige sammantr\\u00e4der 2024-02-26\",\n",
      "      \"CommitteeName\": \"Kommunfullm\\u00e4ktige\",\n",
      "      \"CommitteeLink\": \"committees/kommunfullmaktige\"\n",
      "    },\n",
      "    {\n",
      "      \"Id\": \"e713a832-f7fe-4194-82d8-0fa54ed0274b\",\n",
      "      \"Type\": \"Kommunstyrelsens protokoll\",\n",
      "      \"StartDate\": \"2024-02-20\",\n",
      "      \"EndDate\": \"2024-03-12\",\n",
      "      \"Title\": \"Protokoll fr\\u00e5n m\\u00f6te i Kommunstyrelsen - 2024-02-13\",\n",
      "      \"CommitteeName\": \"Kommunstyrelsen\",\n",
      "      \"CommitteeLink\": \"committees/kommunstyrelsen\"\n",
      "    },\n",
      "    {\n",
      "      \"Id\": \"a1871c78-6c8f-4632-9df7-b4699c351ae5\",\n",
      "      \"Type\": \"\\u00c5nge Fastighets & Industri AB protokoll\",\n",
      "      \"StartDate\": \"2024-02-15\",\n",
      "      \"EndDate\": \"2024-03-07\",\n",
      "      \"Title\": \"Protokoll fr\\u00e5n m\\u00f6te i \\u00c5nge Fastighets & Industri AB - 2024-02-12\",\n",
      "      \"CommitteeName\": \"\\u00c5nge Fastighets & Industri AB\",\n",
      "      \"CommitteeLink\": \"committees/ange-fastighets-industri-ab\"\n",
      "    },\n",
      "    {\n",
      "      \"Id\": \"85fd44f6-ae18-4bd8-a28a-ca6913e3ab7b\",\n",
      "      \"Type\": \"Br\\u00e4cke \\u00c5nge Bygg- och Milj\\u00f6n\\u00e4mnds protokoll\",\n",
      "      \"StartDate\": \"2024-02-12\",\n",
      "      \"EndDate\": \"2024-03-04\",\n",
      "      \"Title\": \"Protokoll Bygg- och milj\\u00f6n\\u00e4mnden Br\\u00e4cke och \\u00c5nge\",\n",
      "      \"CommitteeName\": null,\n",
      "      \"CommitteeLink\": null\n",
      "    }\n",
      "  ],\n",
      "  \"TotalItemCount\": 7\n",
      "}\n"
     ]
    }
   ],
   "source": [
    "import requests, json\n",
    "\n",
    "def fetch_api_data(url):\n",
    "    try:\n",
    "        response = requests.get(url)\n",
    "        # Check if the request was successful (status code 200)\n",
    "        if response.status_code == 200:\n",
    "            return response.json()  # Assuming the response is in JSON format\n",
    "        else:\n",
    "            print(f\"Failed to fetch data from API. Status code: {response.status_code}\")\n",
    "            return None\n",
    "    except requests.exceptions.RequestException as e:\n",
    "        print(f\"An error occurred while fetching data from API: {e}\")\n",
    "        return None\n",
    "\n",
    "data = fetch_api_data(api_url)\n",
    "if data:\n",
    "    print(\"Data fetched successfully:\")\n",
    "    print(json.dumps(data,indent=2))\n"
   ]
  },
  {
   "cell_type": "code",
   "execution_count": 4,
   "id": "80037404-9d37-4117-a859-3a479bbcdfac",
   "metadata": {},
   "outputs": [
    {
     "name": "stdout",
     "output_type": "stream",
     "text": [
      "Ended:  2024-03-04 17:31:33.981667\n",
      "Time elapsed (hh:mm:ss.ms) 0:00:00.159657\n"
     ]
    }
   ],
   "source": [
    "end = datetime.now()\n",
    "print(\"Ended: \", end) \n",
    "print('Time elapsed (hh:mm:ss.ms) {}'.format(datetime.now() - start_time))\n"
   ]
  }
 ],
 "metadata": {
  "kernelspec": {
   "display_name": "Python 3 (ipykernel)",
   "language": "python",
   "name": "python3"
  },
  "language_info": {
   "codemirror_mode": {
    "name": "ipython",
    "version": 3
   },
   "file_extension": ".py",
   "mimetype": "text/x-python",
   "name": "python",
   "nbconvert_exporter": "python",
   "pygments_lexer": "ipython3",
   "version": "3.12.2"
  }
 },
 "nbformat": 4,
 "nbformat_minor": 5
}
